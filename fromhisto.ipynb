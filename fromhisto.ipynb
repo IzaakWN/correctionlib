{
 "cells": [
  {
   "cell_type": "code",
   "execution_count": 1,
   "metadata": {},
   "outputs": [],
   "source": [
    "import uproot4\n",
    "\n",
    "h = uproot4.open(\"https://raw.githubusercontent.com/CoffeaTeam/coffea/master/tests/samples/testSF2d.histo.root:scalefactors_Tight_Electron\").to_boost()"
   ]
  },
  {
   "cell_type": "code",
   "execution_count": 2,
   "metadata": {
    "scrolled": true
   },
   "outputs": [
    {
     "data": {
      "text/plain": [
       "Histogram(\n",
       "  Variable([-2.5, -2, -1.566, -1.444, -0.8, 0, 0.8, 1.444, 1.566, 2, 2.5]),\n",
       "  Variable([10, 20, 35, 50, 90, 150, 500]),\n",
       "  storage=Weight()) # Sum: WeightedSum(value=58.2612, variance=0.0410892) (WeightedSum(value=68.4267, variance=0.0780986) with flow)"
      ]
     },
     "execution_count": 2,
     "metadata": {},
     "output_type": "execute_result"
    }
   ],
   "source": [
    "h"
   ]
  },
  {
   "cell_type": "code",
   "execution_count": 3,
   "metadata": {},
   "outputs": [],
   "source": [
    "from correctionlib.schemav1 import Correction\n",
    "\n",
    "corr = Correction.parse_obj(\n",
    "    {\n",
    "        \"output\": {\"name\": \"event weight\", \"type\": \"real\"},\n",
    "        \"version\": 0,\n",
    "        \"name\": \"scalefactors_Tight_Electron\",\n",
    "        \"inputs\": [{\"type\": \"real\", \"name\": \"eta\"}, {\"name\": \"pt\", \"type\": \"real\"}],\n",
    "        \"data\": {\n",
    "            \"nodetype\": \"multibinning\",\n",
    "            \"edges\": [\n",
    "                list(h.axes[0].edges),\n",
    "                list(h.axes[1].edges),\n",
    "            ],\n",
    "            \"content\": list(h.view().value.flatten()),\n",
    "        },\n",
    "    }\n",
    ")"
   ]
  },
  {
   "cell_type": "code",
   "execution_count": 4,
   "metadata": {},
   "outputs": [
    {
     "data": {
      "text/plain": [
       "Correction(name='scalefactors_Tight_Electron', description=None, version=0, inputs=[Variable(name='eta', type='real', description=None), Variable(name='pt', type='real', description=None)], output=Variable(name='event weight', type='real', description=None), data=MultiBinning(nodetype='multibinning', edges=[[-2.5, -2.0, -1.566, -1.444, -0.8, 0.0, 0.8, 1.444, 1.566, 2.0, 2.5], [10.0, 20.0, 35.0, 50.0, 90.0, 150.0, 500.0]], content=[0.8065573573112488, 0.8824593424797058, 0.9188405871391296, 0.940397322177887, 1.0510855913162231, 1.0510855913162231, 0.8285714387893677, 0.9274873733520508, 0.9669876098632812, 0.9809644818305969, 1.0059242248535156, 1.0059242248535156, 1.0328638553619385, 1.0075949430465698, 0.9881955981254578, 0.9953917264938354, 1.1041055917739868, 1.1041055917739868, 1.0077519416809082, 0.9720394611358643, 0.9746666550636292, 0.9716748595237732, 0.9894859790802002, 0.9894859790802002, 0.9407216310501099, 0.9529983997344971, 0.9534574747085571, 0.9530864357948303, 0.9754959344863892, 0.9754959344863892, 0.9458763003349304, 0.9819967150688171, 0.9798115491867065, 0.9775280952453613, 1.0118906497955322, 1.0118906497955322, 0.9897698163986206, 0.9752066135406494, 0.9746328592300415, 0.9789343476295471, 1.010727047920227, 1.010727047920227, 1.0339806079864502, 0.9748743772506714, 0.9663865566253662, 0.9799072742462158, 1.0071632862091064, 1.0071632862091064, 0.8274853825569153, 0.9089376330375671, 0.9578231573104858, 0.9685534834861755, 0.9882628917694092, 0.9882628917694092, 0.7970149517059326, 0.8633217811584473, 0.9078013896942139, 0.9376623630523682, 1.0213568210601807, 1.0213568210601807]))"
      ]
     },
     "execution_count": 4,
     "metadata": {},
     "output_type": "execute_result"
    }
   ],
   "source": [
    "corr"
   ]
  }
 ],
 "metadata": {
  "kernelspec": {
   "display_name": "Python 3",
   "language": "python",
   "name": "python3"
  },
  "language_info": {
   "codemirror_mode": {
    "name": "ipython",
    "version": 3
   },
   "file_extension": ".py",
   "mimetype": "text/x-python",
   "name": "python",
   "nbconvert_exporter": "python",
   "pygments_lexer": "ipython3",
   "version": "3.8.6"
  }
 },
 "nbformat": 4,
 "nbformat_minor": 4
}
